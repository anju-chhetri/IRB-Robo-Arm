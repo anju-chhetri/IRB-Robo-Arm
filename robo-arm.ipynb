{
 "cells": [
  {
   "cell_type": "code",
   "execution_count": null,
   "metadata": {},
   "outputs": [],
   "source": [
    "import cv2\n",
    "import numpy as np\n",
    "import tensorflow as tf\n",
    "import glob"
   ]
  },
  {
   "cell_type": "code",
   "execution_count": null,
   "metadata": {},
   "outputs": [],
   "source": [
    "def number_of_pictures(path):\n",
    "    c = glob.glob(path+'/*.jpg')\n",
    "    c = [a.split('/')[-1] for a in c]\n",
    "    return len(c)"
   ]
  },
  {
   "cell_type": "code",
   "execution_count": null,
   "metadata": {},
   "outputs": [],
   "source": [
    "def convert_to_onehot(Y,C):\n",
    "    Y = np.eye(C)[Y.reshape(-1)].T\n",
    "    return Y\n"
   ]
  },
  {
   "cell_type": "code",
   "execution_count": null,
   "metadata": {},
   "outputs": [],
   "source": [
    "path = \"/train1/\"\n",
    "vid = cv2.VideoCapture(0)\n",
    "def take_picture():\n",
    "    \n",
    "    h = number_of_pictures(path+'0');\n",
    "    f = number_of_pictures(path+'1');\n",
    "    p = number_of_pictures(path+'2');\n",
    "    n = number_of_pictures(path+'3');\n",
    "    print(h)\n",
    "    while(1):\n",
    "        ret, img = vid.read()\n",
    "        if ret:\n",
    "            cv2.imshow('picture', img)\n",
    "            key = cv2.waitKey(2)\n",
    "            \n",
    "            if key == 104:\n",
    "                print(key)\n",
    "                cv2.imwrite(path+'0/'+str(h)+'.jpg',img)\n",
    "                h += 1\n",
    "                \n",
    "            elif key == ord('f'):\n",
    "                cv2.imwrite(path+'1/'+str(f)+'.jpg',img)\n",
    "                f += 1\n",
    "\n",
    "            elif key == ord('p'):\n",
    "                cv2.imwrite(path+'2/'+str(p)+'.jpg',img)\n",
    "                p += 1\n",
    "\n",
    "            elif key == ord('n'):\n",
    "                cv2.imwrite(path+'3/'+str(n)+'.jpg',img)\n",
    "                n += 1\n",
    "            elif key == ord('c'):\n",
    "                cv2.destroyAllWindows()\n",
    "                vid.release()\n",
    "            "
   ]
  },
  {
   "cell_type": "code",
   "execution_count": null,
   "metadata": {},
   "outputs": [],
   "source": [
    "take_picture()"
   ]
  },
  {
   "cell_type": "code",
   "execution_count": null,
   "metadata": {},
   "outputs": [],
   "source": [
    "vid.release()\n",
    "cv2.destroyAllWindows()"
   ]
  },
  {
   "cell_type": "code",
   "execution_count": null,
   "metadata": {},
   "outputs": [],
   "source": [
    "\n",
    "model = tf.keras.Sequential()\n",
    "\n",
    "model.add(tf.keras.layers.Conv2D(96, (11,11),strides = (4,4), input_shape = (227,227,3),kernel_initializer='glorot_uniform'))\n",
    "model.add(tf.keras.layers.MaxPool2D(pool_size=(3, 3), strides= (2,2)))\n",
    "\n",
    "\n",
    "model.add(tf.keras.layers.Conv2D(256, (5,5),strides = (1,1), input_shape = (27,27,96),kernel_initializer='glorot_uniform'))\n",
    "model.add(tf.keras.layers.MaxPool2D(pool_size=(3, 3), strides= (2,2)))\n",
    "\n",
    "\n",
    "model.add(tf.keras.layers.Conv2D(384, (3,3),strides = (1,1), input_shape = (13,13,256),kernel_initializer='glorot_uniform'))\n",
    "\n",
    "model.add(tf.keras.layers.Conv2D(384, (3,3),strides = (1,1), input_shape = (13,13,384),kernel_initializer='glorot_uniform'))\n",
    "\n",
    "model.add(tf.keras.layers.Conv2D(256, (3,3),strides = (1,1), input_shape = (13,13,384),kernel_initializer='glorot_uniform'))\n",
    "model.add(tf.keras.layers.MaxPool2D(pool_size=(3, 3), strides= (2,2)))\n",
    "\n",
    "model.add(tf.keras.layers.Flatten())\n",
    "model.add(tf.keras.layers.Dense(9216, activation= 'relu'))\n",
    "model.add(tf.keras.layers.Dense(4096, activation = 'relu'))\n",
    "model.add(tf.keras.layers.Dense(4096, activation= 'relu'))\n",
    "\n",
    "model.add(tf.keras.layers.Dense(4, activation= 'softmax'))\n",
    "path = \"/robotic_arm/\"\n",
    "checkpoint_path = path+'Checkpoints/cp.cpkt'\n",
    "model.load_weights(checkpoint_path)\n",
    "model.compile(loss='categorical_crossentropy', optimizer=tf.keras.optimizers.Adam(learning_rate=1e-6), metrics=['accuracy'])\n",
    "model.summary()"
   ]
  },
  {
   "cell_type": "code",
   "execution_count": null,
   "metadata": {},
   "outputs": [],
   "source": [
    "model.compile(loss='categorical_crossentropy', optimizer=tf.keras.optimizers.Adam(learning_rate=1e-6), metrics=['accuracy'])"
   ]
  },
  {
   "cell_type": "code",
   "execution_count": null,
   "metadata": {},
   "outputs": [],
   "source": [
    "checkpoint_path = path+'Checkpoints/cp.cpkt'\n",
    "logdir = path+'Tensoboard_data'\n",
    "cp_callback = tf.keras.callbacks.ModelCheckpoint(checkpoint_path, save_weights_only=True,verbose=1)\n",
    "cp_logdir = tf.keras.callbacks.TensorBoard(log_dir = logdir,histogram_freq = 1000)\n",
    "\n"
   ]
  },
  {
   "cell_type": "code",
   "execution_count": null,
   "metadata": {},
   "outputs": [],
   "source": [
    "def make_dataset(path):  \n",
    "    images = []\n",
    "    labels = []\n",
    "    for i in range(4):\n",
    "        data_path = glob.glob(path+str(i)+\"/*.jpg\")\n",
    "        for j in data_path:\n",
    "            image = cv2.imread(j,cv2.IMREAD_COLOR)\n",
    "            image = cv2.resize(image, (227,227), interpolation = cv2.INTER_LANCZOS4)\n",
    "            image = np.array(image)\n",
    "            image = image.astype('int')\n",
    "            images.append(image)\n",
    "            labels.append(i)\n",
    "            \n",
    "    np.save(\"Robot_test.npy\", images)\n",
    "    np.save(\"Robot_test_label.npy\",labels)\n",
    "            "
   ]
  },
  {
   "cell_type": "code",
   "execution_count": null,
   "metadata": {},
   "outputs": [],
   "source": [
    "path = \"/train1/\"\n",
    "make_dataset(path)"
   ]
  },
  {
   "cell_type": "code",
   "execution_count": null,
   "metadata": {},
   "outputs": [],
   "source": [
    "c = np.load(\"Robot_test[0].npy\")\n",
    "print(c)"
   ]
  },
  {
   "cell_type": "code",
   "execution_count": null,
   "metadata": {},
   "outputs": [],
   "source": [
    "epoch = 10\n",
    "X_train = np.load(path+\"RoboticData.npy\")\n",
    "Y_train = np.load(path +\"RoboticData_labels.npy\")\n",
    "Y_train = Y_train.astype('int')\n",
    "Y_train = tf.one_hot(Y_train,4)\n",
    "model.fit(X_train,Y_train,batch_size=64,epochs=epoch,validation_data = (X_train[0:1000],Y_train[0:1000]) , callbacks = [cp_callback])"
   ]
  },
  {
   "cell_type": "code",
   "execution_count": null,
   "metadata": {},
   "outputs": [],
   "source": [
    "def predict(model, X_test):\n",
    "    logits = model.predict(X_test)\n",
    "    return np.argmax(logits, axis =1)"
   ]
  },
  {
   "cell_type": "code",
   "execution_count": null,
   "metadata": {},
   "outputs": [],
   "source": [
    "path = \"/robotic_arm/\"\n",
    "X_train = np.load(\"/Robot_test.npy\")\n",
    "Y_train = np.load(\"/Robot_test_label.npy\")\n",
    "Y_train = Y_train.astype('int')\n",
    "print(Y_train.shape)\n",
    "Y_train = convert_to_onehot(Y_train, 4)\n",
    "print(Y_train.shape)"
   ]
  },
  {
   "cell_type": "code",
   "execution_count": null,
   "metadata": {},
   "outputs": [],
   "source": [
    "# np.random.seed(0)\n",
    "# np.random.shuffle(X_train)\n",
    "# np.random.seed(0)\n",
    "# np.random.shuffle(Y_train)\n"
   ]
  },
  {
   "cell_type": "code",
   "execution_count": null,
   "metadata": {},
   "outputs": [],
   "source": [
    "while True:\n",
    "    frame =cv2.VideoCapture(0)\n",
    "    ret, img = frame.read()\n",
    "\n",
    "    if ret:\n",
    "        img = cv2.resize(img, (227,227), interpolation=cv2.INTER_CUBIC)\n",
    "        cv2.imshow('Main', img)\n",
    "        # adhere to TS graph input structure\n",
    "#         numpy_frame = np.asarray(frame)\n",
    "#         numpy_frame = cv2.normalize(numpy_frame.astype('int'), None, -0.5, .5, cv2.NORM_MINMAX)\n",
    "        img = img.astype('float16')\n",
    "        img = np.expand_dims(img, axis=0)\n",
    "\n",
    "        print(predict(model ,img))\n",
    "\n",
    "        \n",
    "\n",
    "    if cv2.waitKey(1) & 0xFF == ord('q'):\n",
    "        break\n",
    "\n",
    "camera.release()\n",
    "cv2.destroyAllWindows()\n",
    "            "
   ]
  },
  {
   "cell_type": "code",
   "execution_count": null,
   "metadata": {},
   "outputs": [],
   "source": [
    "model.evaluate(X_train, Y_train, batch_size=8)"
   ]
  }
 ],
 "metadata": {
  "kernelspec": {
   "display_name": "Python 3",
   "language": "python",
   "name": "python3"
  },
  "language_info": {
   "codemirror_mode": {
    "name": "ipython",
    "version": 3
   },
   "file_extension": ".py",
   "mimetype": "text/x-python",
   "name": "python",
   "nbconvert_exporter": "python",
   "pygments_lexer": "ipython3",
   "version": "3.7.6"
  }
 },
 "nbformat": 4,
 "nbformat_minor": 2
}
